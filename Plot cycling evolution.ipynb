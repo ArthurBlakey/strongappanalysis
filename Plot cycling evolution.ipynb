{
 "cells": [
  {
   "cell_type": "markdown",
   "metadata": {},
   "source": [
    "Import the necessery modules"
   ]
  },
  {
   "cell_type": "code",
   "execution_count": 1,
   "metadata": {},
   "outputs": [],
   "source": [
    "import pandas as pd\n",
    "import matplotlib as plt"
   ]
  },
  {
   "cell_type": "code",
   "execution_count": 2,
   "metadata": {},
   "outputs": [
    {
     "data": {
      "text/html": [
       "<div>\n",
       "<style scoped>\n",
       "    .dataframe tbody tr th:only-of-type {\n",
       "        vertical-align: middle;\n",
       "    }\n",
       "\n",
       "    .dataframe tbody tr th {\n",
       "        vertical-align: top;\n",
       "    }\n",
       "\n",
       "    .dataframe thead th {\n",
       "        text-align: right;\n",
       "    }\n",
       "</style>\n",
       "<table border=\"1\" class=\"dataframe\">\n",
       "  <thead>\n",
       "    <tr style=\"text-align: right;\">\n",
       "      <th></th>\n",
       "      <th>Unnamed: 0</th>\n",
       "      <th>Date</th>\n",
       "      <th>Distance</th>\n",
       "      <th>Exercise Name</th>\n",
       "      <th>Notes</th>\n",
       "      <th>RPE</th>\n",
       "      <th>Reps</th>\n",
       "      <th>Seconds</th>\n",
       "      <th>Set Order</th>\n",
       "      <th>Source</th>\n",
       "      <th>Speed</th>\n",
       "      <th>Weight</th>\n",
       "      <th>Workout Name</th>\n",
       "      <th>Workout Notes</th>\n",
       "    </tr>\n",
       "  </thead>\n",
       "  <tbody>\n",
       "    <tr>\n",
       "      <th>2324</th>\n",
       "      <td>4</td>\n",
       "      <td>2020-11-06 13:23:52</td>\n",
       "      <td>50137.4</td>\n",
       "      <td>Cycling</td>\n",
       "      <td>NaN</td>\n",
       "      <td>NaN</td>\n",
       "      <td>NaN</td>\n",
       "      <td>7895</td>\n",
       "      <td>NaN</td>\n",
       "      <td>NaN</td>\n",
       "      <td>22.861892</td>\n",
       "      <td>NaN</td>\n",
       "      <td>NaN</td>\n",
       "      <td>NaN</td>\n",
       "    </tr>\n",
       "    <tr>\n",
       "      <th>2325</th>\n",
       "      <td>3</td>\n",
       "      <td>2020-11-11 15:51:31</td>\n",
       "      <td>19916.4</td>\n",
       "      <td>Cycling</td>\n",
       "      <td>NaN</td>\n",
       "      <td>NaN</td>\n",
       "      <td>NaN</td>\n",
       "      <td>2886</td>\n",
       "      <td>NaN</td>\n",
       "      <td>NaN</td>\n",
       "      <td>24.843742</td>\n",
       "      <td>NaN</td>\n",
       "      <td>NaN</td>\n",
       "      <td>NaN</td>\n",
       "    </tr>\n",
       "    <tr>\n",
       "      <th>2326</th>\n",
       "      <td>2</td>\n",
       "      <td>2020-11-15 09:10:00</td>\n",
       "      <td>64460.6</td>\n",
       "      <td>Cycling</td>\n",
       "      <td>NaN</td>\n",
       "      <td>NaN</td>\n",
       "      <td>NaN</td>\n",
       "      <td>15801</td>\n",
       "      <td>NaN</td>\n",
       "      <td>NaN</td>\n",
       "      <td>14.686296</td>\n",
       "      <td>NaN</td>\n",
       "      <td>NaN</td>\n",
       "      <td>NaN</td>\n",
       "    </tr>\n",
       "    <tr>\n",
       "      <th>2327</th>\n",
       "      <td>1</td>\n",
       "      <td>2020-11-21 14:02:05</td>\n",
       "      <td>62731.5</td>\n",
       "      <td>Cycling</td>\n",
       "      <td>NaN</td>\n",
       "      <td>NaN</td>\n",
       "      <td>NaN</td>\n",
       "      <td>11238</td>\n",
       "      <td>NaN</td>\n",
       "      <td>NaN</td>\n",
       "      <td>20.095515</td>\n",
       "      <td>NaN</td>\n",
       "      <td>NaN</td>\n",
       "      <td>NaN</td>\n",
       "    </tr>\n",
       "    <tr>\n",
       "      <th>2328</th>\n",
       "      <td>0</td>\n",
       "      <td>2020-11-28 14:42:16</td>\n",
       "      <td>8829.2</td>\n",
       "      <td>Cycling</td>\n",
       "      <td>NaN</td>\n",
       "      <td>NaN</td>\n",
       "      <td>NaN</td>\n",
       "      <td>1690</td>\n",
       "      <td>NaN</td>\n",
       "      <td>NaN</td>\n",
       "      <td>18.807763</td>\n",
       "      <td>NaN</td>\n",
       "      <td>NaN</td>\n",
       "      <td>NaN</td>\n",
       "    </tr>\n",
       "  </tbody>\n",
       "</table>\n",
       "</div>"
      ],
      "text/plain": [
       "      Unnamed: 0                 Date  Distance Exercise Name Notes  RPE  \\\n",
       "2324           4  2020-11-06 13:23:52   50137.4       Cycling   NaN  NaN   \n",
       "2325           3  2020-11-11 15:51:31   19916.4       Cycling   NaN  NaN   \n",
       "2326           2  2020-11-15 09:10:00   64460.6       Cycling   NaN  NaN   \n",
       "2327           1  2020-11-21 14:02:05   62731.5       Cycling   NaN  NaN   \n",
       "2328           0  2020-11-28 14:42:16    8829.2       Cycling   NaN  NaN   \n",
       "\n",
       "      Reps  Seconds  Set Order Source      Speed  Weight Workout Name  \\\n",
       "2324   NaN     7895        NaN    NaN  22.861892     NaN          NaN   \n",
       "2325   NaN     2886        NaN    NaN  24.843742     NaN          NaN   \n",
       "2326   NaN    15801        NaN    NaN  14.686296     NaN          NaN   \n",
       "2327   NaN    11238        NaN    NaN  20.095515     NaN          NaN   \n",
       "2328   NaN     1690        NaN    NaN  18.807763     NaN          NaN   \n",
       "\n",
       "     Workout Notes  \n",
       "2324           NaN  \n",
       "2325           NaN  \n",
       "2326           NaN  \n",
       "2327           NaN  \n",
       "2328           NaN  "
      ]
     },
     "execution_count": 2,
     "metadata": {},
     "output_type": "execute_result"
    }
   ],
   "source": [
    "df = pd.read_csv('strongstravacombo.csv')\n",
    "df.tail()"
   ]
  },
  {
   "cell_type": "code",
   "execution_count": 3,
   "metadata": {},
   "outputs": [
    {
     "data": {
      "text/plain": [
       "Unnamed: 0         int64\n",
       "Date              object\n",
       "Distance         float64\n",
       "Exercise Name     object\n",
       "Notes             object\n",
       "RPE              float64\n",
       "Reps             float64\n",
       "Seconds            int64\n",
       "Set Order        float64\n",
       "Source            object\n",
       "Speed            float64\n",
       "Weight           float64\n",
       "Workout Name      object\n",
       "Workout Notes     object\n",
       "dtype: object"
      ]
     },
     "execution_count": 3,
     "metadata": {},
     "output_type": "execute_result"
    }
   ],
   "source": [
    "df.dtypes"
   ]
  },
  {
   "cell_type": "code",
   "execution_count": 4,
   "metadata": {},
   "outputs": [],
   "source": [
    "df[\"Date\"] = pd.to_datetime(df[\"Date\"])"
   ]
  },
  {
   "cell_type": "code",
   "execution_count": 5,
   "metadata": {},
   "outputs": [
    {
     "data": {
      "text/plain": [
       "Unnamed: 0                int64\n",
       "Date             datetime64[ns]\n",
       "Distance                float64\n",
       "Exercise Name            object\n",
       "Notes                    object\n",
       "RPE                     float64\n",
       "Reps                    float64\n",
       "Seconds                   int64\n",
       "Set Order               float64\n",
       "Source                   object\n",
       "Speed                   float64\n",
       "Weight                  float64\n",
       "Workout Name             object\n",
       "Workout Notes            object\n",
       "dtype: object"
      ]
     },
     "execution_count": 5,
     "metadata": {},
     "output_type": "execute_result"
    }
   ],
   "source": [
    "df.dtypes"
   ]
  },
  {
   "cell_type": "markdown",
   "metadata": {},
   "source": [
    " Find all the times I cycled this year"
   ]
  },
  {
   "cell_type": "code",
   "execution_count": 6,
   "metadata": {},
   "outputs": [],
   "source": [
    "#for some reason I can't combine the filters using the & sign, so i did it in 2 steps\n",
    "filt1 = df[\"Date\"] >= \"2020\"\n",
    "filt2 = df[\"Exercise Name\"] == \"Cycling\""
   ]
  },
  {
   "cell_type": "code",
   "execution_count": 7,
   "metadata": {},
   "outputs": [
    {
     "data": {
      "text/html": [
       "<div>\n",
       "<style scoped>\n",
       "    .dataframe tbody tr th:only-of-type {\n",
       "        vertical-align: middle;\n",
       "    }\n",
       "\n",
       "    .dataframe tbody tr th {\n",
       "        vertical-align: top;\n",
       "    }\n",
       "\n",
       "    .dataframe thead th {\n",
       "        text-align: right;\n",
       "    }\n",
       "</style>\n",
       "<table border=\"1\" class=\"dataframe\">\n",
       "  <thead>\n",
       "    <tr style=\"text-align: right;\">\n",
       "      <th></th>\n",
       "      <th>Unnamed: 0</th>\n",
       "      <th>Date</th>\n",
       "      <th>Distance</th>\n",
       "      <th>Exercise Name</th>\n",
       "      <th>Notes</th>\n",
       "      <th>RPE</th>\n",
       "      <th>Reps</th>\n",
       "      <th>Seconds</th>\n",
       "      <th>Set Order</th>\n",
       "      <th>Source</th>\n",
       "      <th>Speed</th>\n",
       "      <th>Weight</th>\n",
       "      <th>Workout Name</th>\n",
       "      <th>Workout Notes</th>\n",
       "    </tr>\n",
       "  </thead>\n",
       "  <tbody>\n",
       "    <tr>\n",
       "      <th>1893</th>\n",
       "      <td>1873</td>\n",
       "      <td>2020-01-02 22:19:32</td>\n",
       "      <td>15430.0</td>\n",
       "      <td>Cycling</td>\n",
       "      <td>292 cal</td>\n",
       "      <td>NaN</td>\n",
       "      <td>0.0</td>\n",
       "      <td>1800</td>\n",
       "      <td>1.0</td>\n",
       "      <td>strong</td>\n",
       "      <td>30.860000</td>\n",
       "      <td>0.0</td>\n",
       "      <td>Evening Workout</td>\n",
       "      <td>NaN</td>\n",
       "    </tr>\n",
       "    <tr>\n",
       "      <th>1897</th>\n",
       "      <td>1877</td>\n",
       "      <td>2020-01-03 12:21:27</td>\n",
       "      <td>15260.0</td>\n",
       "      <td>Cycling</td>\n",
       "      <td>327 cal</td>\n",
       "      <td>NaN</td>\n",
       "      <td>0.0</td>\n",
       "      <td>1800</td>\n",
       "      <td>1.0</td>\n",
       "      <td>strong</td>\n",
       "      <td>30.520000</td>\n",
       "      <td>0.0</td>\n",
       "      <td>Midday Workout</td>\n",
       "      <td>NaN</td>\n",
       "    </tr>\n",
       "    <tr>\n",
       "      <th>1901</th>\n",
       "      <td>1882</td>\n",
       "      <td>2020-01-05 18:20:55</td>\n",
       "      <td>15740.0</td>\n",
       "      <td>Cycling</td>\n",
       "      <td>309 cal</td>\n",
       "      <td>NaN</td>\n",
       "      <td>0.0</td>\n",
       "      <td>1800</td>\n",
       "      <td>1.0</td>\n",
       "      <td>strong</td>\n",
       "      <td>31.480000</td>\n",
       "      <td>0.0</td>\n",
       "      <td>Evening Workout</td>\n",
       "      <td>NaN</td>\n",
       "    </tr>\n",
       "    <tr>\n",
       "      <th>1903</th>\n",
       "      <td>1883</td>\n",
       "      <td>2020-01-06 22:42:07</td>\n",
       "      <td>15370.0</td>\n",
       "      <td>Cycling</td>\n",
       "      <td>295 cal</td>\n",
       "      <td>NaN</td>\n",
       "      <td>0.0</td>\n",
       "      <td>1800</td>\n",
       "      <td>1.0</td>\n",
       "      <td>strong</td>\n",
       "      <td>30.740000</td>\n",
       "      <td>0.0</td>\n",
       "      <td>Evening Workout</td>\n",
       "      <td>295 cal</td>\n",
       "    </tr>\n",
       "    <tr>\n",
       "      <th>1911</th>\n",
       "      <td>1889</td>\n",
       "      <td>2020-01-07 12:56:00</td>\n",
       "      <td>10530.0</td>\n",
       "      <td>Cycling</td>\n",
       "      <td>220 cal</td>\n",
       "      <td>NaN</td>\n",
       "      <td>0.0</td>\n",
       "      <td>1200</td>\n",
       "      <td>1.0</td>\n",
       "      <td>strong</td>\n",
       "      <td>31.590000</td>\n",
       "      <td>0.0</td>\n",
       "      <td>Afternoon Workout</td>\n",
       "      <td>NaN</td>\n",
       "    </tr>\n",
       "    <tr>\n",
       "      <th>...</th>\n",
       "      <td>...</td>\n",
       "      <td>...</td>\n",
       "      <td>...</td>\n",
       "      <td>...</td>\n",
       "      <td>...</td>\n",
       "      <td>...</td>\n",
       "      <td>...</td>\n",
       "      <td>...</td>\n",
       "      <td>...</td>\n",
       "      <td>...</td>\n",
       "      <td>...</td>\n",
       "      <td>...</td>\n",
       "      <td>...</td>\n",
       "      <td>...</td>\n",
       "    </tr>\n",
       "    <tr>\n",
       "      <th>2324</th>\n",
       "      <td>4</td>\n",
       "      <td>2020-11-06 13:23:52</td>\n",
       "      <td>50137.4</td>\n",
       "      <td>Cycling</td>\n",
       "      <td>NaN</td>\n",
       "      <td>NaN</td>\n",
       "      <td>NaN</td>\n",
       "      <td>7895</td>\n",
       "      <td>NaN</td>\n",
       "      <td>NaN</td>\n",
       "      <td>22.861892</td>\n",
       "      <td>NaN</td>\n",
       "      <td>NaN</td>\n",
       "      <td>NaN</td>\n",
       "    </tr>\n",
       "    <tr>\n",
       "      <th>2325</th>\n",
       "      <td>3</td>\n",
       "      <td>2020-11-11 15:51:31</td>\n",
       "      <td>19916.4</td>\n",
       "      <td>Cycling</td>\n",
       "      <td>NaN</td>\n",
       "      <td>NaN</td>\n",
       "      <td>NaN</td>\n",
       "      <td>2886</td>\n",
       "      <td>NaN</td>\n",
       "      <td>NaN</td>\n",
       "      <td>24.843742</td>\n",
       "      <td>NaN</td>\n",
       "      <td>NaN</td>\n",
       "      <td>NaN</td>\n",
       "    </tr>\n",
       "    <tr>\n",
       "      <th>2326</th>\n",
       "      <td>2</td>\n",
       "      <td>2020-11-15 09:10:00</td>\n",
       "      <td>64460.6</td>\n",
       "      <td>Cycling</td>\n",
       "      <td>NaN</td>\n",
       "      <td>NaN</td>\n",
       "      <td>NaN</td>\n",
       "      <td>15801</td>\n",
       "      <td>NaN</td>\n",
       "      <td>NaN</td>\n",
       "      <td>14.686296</td>\n",
       "      <td>NaN</td>\n",
       "      <td>NaN</td>\n",
       "      <td>NaN</td>\n",
       "    </tr>\n",
       "    <tr>\n",
       "      <th>2327</th>\n",
       "      <td>1</td>\n",
       "      <td>2020-11-21 14:02:05</td>\n",
       "      <td>62731.5</td>\n",
       "      <td>Cycling</td>\n",
       "      <td>NaN</td>\n",
       "      <td>NaN</td>\n",
       "      <td>NaN</td>\n",
       "      <td>11238</td>\n",
       "      <td>NaN</td>\n",
       "      <td>NaN</td>\n",
       "      <td>20.095515</td>\n",
       "      <td>NaN</td>\n",
       "      <td>NaN</td>\n",
       "      <td>NaN</td>\n",
       "    </tr>\n",
       "    <tr>\n",
       "      <th>2328</th>\n",
       "      <td>0</td>\n",
       "      <td>2020-11-28 14:42:16</td>\n",
       "      <td>8829.2</td>\n",
       "      <td>Cycling</td>\n",
       "      <td>NaN</td>\n",
       "      <td>NaN</td>\n",
       "      <td>NaN</td>\n",
       "      <td>1690</td>\n",
       "      <td>NaN</td>\n",
       "      <td>NaN</td>\n",
       "      <td>18.807763</td>\n",
       "      <td>NaN</td>\n",
       "      <td>NaN</td>\n",
       "      <td>NaN</td>\n",
       "    </tr>\n",
       "  </tbody>\n",
       "</table>\n",
       "<p>112 rows × 14 columns</p>\n",
       "</div>"
      ],
      "text/plain": [
       "      Unnamed: 0                Date  Distance Exercise Name    Notes  RPE  \\\n",
       "1893        1873 2020-01-02 22:19:32   15430.0       Cycling  292 cal  NaN   \n",
       "1897        1877 2020-01-03 12:21:27   15260.0       Cycling  327 cal  NaN   \n",
       "1901        1882 2020-01-05 18:20:55   15740.0       Cycling  309 cal  NaN   \n",
       "1903        1883 2020-01-06 22:42:07   15370.0       Cycling  295 cal  NaN   \n",
       "1911        1889 2020-01-07 12:56:00   10530.0       Cycling  220 cal  NaN   \n",
       "...          ...                 ...       ...           ...      ...  ...   \n",
       "2324           4 2020-11-06 13:23:52   50137.4       Cycling      NaN  NaN   \n",
       "2325           3 2020-11-11 15:51:31   19916.4       Cycling      NaN  NaN   \n",
       "2326           2 2020-11-15 09:10:00   64460.6       Cycling      NaN  NaN   \n",
       "2327           1 2020-11-21 14:02:05   62731.5       Cycling      NaN  NaN   \n",
       "2328           0 2020-11-28 14:42:16    8829.2       Cycling      NaN  NaN   \n",
       "\n",
       "      Reps  Seconds  Set Order  Source      Speed  Weight       Workout Name  \\\n",
       "1893   0.0     1800        1.0  strong  30.860000     0.0    Evening Workout   \n",
       "1897   0.0     1800        1.0  strong  30.520000     0.0     Midday Workout   \n",
       "1901   0.0     1800        1.0  strong  31.480000     0.0    Evening Workout   \n",
       "1903   0.0     1800        1.0  strong  30.740000     0.0    Evening Workout   \n",
       "1911   0.0     1200        1.0  strong  31.590000     0.0  Afternoon Workout   \n",
       "...    ...      ...        ...     ...        ...     ...                ...   \n",
       "2324   NaN     7895        NaN     NaN  22.861892     NaN                NaN   \n",
       "2325   NaN     2886        NaN     NaN  24.843742     NaN                NaN   \n",
       "2326   NaN    15801        NaN     NaN  14.686296     NaN                NaN   \n",
       "2327   NaN    11238        NaN     NaN  20.095515     NaN                NaN   \n",
       "2328   NaN     1690        NaN     NaN  18.807763     NaN                NaN   \n",
       "\n",
       "     Workout Notes  \n",
       "1893           NaN  \n",
       "1897           NaN  \n",
       "1901           NaN  \n",
       "1903       295 cal  \n",
       "1911           NaN  \n",
       "...            ...  \n",
       "2324           NaN  \n",
       "2325           NaN  \n",
       "2326           NaN  \n",
       "2327           NaN  \n",
       "2328           NaN  \n",
       "\n",
       "[112 rows x 14 columns]"
      ]
     },
     "execution_count": 7,
     "metadata": {},
     "output_type": "execute_result"
    }
   ],
   "source": [
    "cyclingdata2020 = df.loc[filt1 & filt2]\n",
    "cyclingdata2020"
   ]
  },
  {
   "cell_type": "markdown",
   "metadata": {},
   "source": [
    "<h1>Make a plot of the distance of each activity"
   ]
  },
  {
   "cell_type": "code",
   "execution_count": 8,
   "metadata": {},
   "outputs": [
    {
     "data": {
      "text/plain": [
       "<matplotlib.axes._subplots.AxesSubplot at 0x120aed450>"
      ]
     },
     "execution_count": 8,
     "metadata": {},
     "output_type": "execute_result"
    },
    {
     "data": {
      "image/png": "[encoded data removed]",
      "text/plain": [
       "<Figure size 432x288 with 1 Axes>"
      ]
     },
     "metadata": {
      "needs_background": "light"
     },
     "output_type": "display_data"
    }
   ],
   "source": [
    "cyclingdata2020.plot(x = \"Date\", y = \"Distance\", style = \".\")"
   ]
  },
  {
   "cell_type": "code",
   "execution_count": 9,
   "metadata": {},
   "outputs": [
    {
     "data": {
      "text/plain": [
       "<matplotlib.axes._subplots.AxesSubplot at 0x12118db10>"
      ]
     },
     "execution_count": 9,
     "metadata": {},
     "output_type": "execute_result"
    },
    {
     "data": {
      "image/png": "[encoded data removed]",
      "text/plain": [
       "<Figure size 432x288 with 1 Axes>"
      ]
     },
     "metadata": {
      "needs_background": "light"
     },
     "output_type": "display_data"
    }
   ],
   "source": [
    "cyclingdata2020.plot(x = \"Date\", y = \"Speed\", style = \".\")"
   ]
  },
  {
   "cell_type": "code",
   "execution_count": 10,
   "metadata": {},
   "outputs": [
    {
     "data": {
      "text/plain": [
       "37.59"
      ]
     },
     "execution_count": 10,
     "metadata": {},
     "output_type": "execute_result"
    }
   ],
   "source": [
    "cyclingdata2020[\"Speed\"].max()"
   ]
  },
  {
   "cell_type": "code",
   "execution_count": 11,
   "metadata": {},
   "outputs": [
    {
     "data": {
      "text/plain": [
       "3807964.5"
      ]
     },
     "execution_count": 11,
     "metadata": {},
     "output_type": "execute_result"
    }
   ],
   "source": [
    "cyclingdata2020[\"Distance\"].sum()"
   ]
  },
  {
   "cell_type": "code",
   "execution_count": 12,
   "metadata": {},
   "outputs": [
    {
     "data": {
      "text/plain": [
       "208739.0"
      ]
     },
     "execution_count": 12,
     "metadata": {},
     "output_type": "execute_result"
    }
   ],
   "source": [
    "cyclingdata2020[\"Distance\"].max()"
   ]
  },
  {
   "cell_type": "code",
   "execution_count": 13,
   "metadata": {},
   "outputs": [
    {
     "data": {
      "text/plain": [
       "Unnamed: 0       112\n",
       "Date             112\n",
       "Distance         112\n",
       "Exercise Name    112\n",
       "Notes             37\n",
       "RPE                0\n",
       "Reps              38\n",
       "Seconds          112\n",
       "Set Order         38\n",
       "Source            38\n",
       "Speed            112\n",
       "Weight            38\n",
       "Workout Name      38\n",
       "Workout Notes      1\n",
       "dtype: int64"
      ]
     },
     "execution_count": 13,
     "metadata": {},
     "output_type": "execute_result"
    }
   ],
   "source": [
    "cyclingdata2020.count()"
   ]
  },
  {
   "cell_type": "code",
   "execution_count": null,
   "metadata": {},
   "outputs": [],
   "source": []
  }
 ],
 "metadata": {
  "kernelspec": {
   "display_name": "Python 3",
   "language": "python",
   "name": "python3"
  },
  "language_info": {
   "codemirror_mode": {
    "name": "ipython",
    "version": 3
   },
   "file_extension": ".py",
   "mimetype": "text/x-python",
   "name": "python",
   "nbconvert_exporter": "python",
   "pygments_lexer": "ipython3",
   "version": "3.7.5"
  }
 },
 "nbformat": 4,
 "nbformat_minor": 4
}
